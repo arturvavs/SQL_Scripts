{
 "cells": [
  {
   "cell_type": "code",
   "execution_count": null,
   "id": "485c1366",
   "metadata": {},
   "outputs": [],
   "source": [
    "import cv2\n",
    "import glob\n",
    "path_normal_train = \"C:/Users/artur.sousa/Documents/Infinity School/Projeto_2/chest_xray/train/NORMAL/*.jpeg\"\n",
    "path_pneumonia_train = \"C:/Users/artur.sousa/Documents/Infinity School/Projeto_2/chest_xray/train/PNEUMONIA/*.jpeg\""
   ]
  },
  {
   "cell_type": "code",
   "execution_count": null,
   "id": "8ef525d9",
   "metadata": {},
   "outputs": [],
   "source": [
    "x_normal_train = [cv2.imread(x_normal_train) for x_normal_train in glob.glob(path_normal_train)]"
   ]
  },
  {
   "cell_type": "code",
   "execution_count": null,
   "id": "3cb6726c",
   "metadata": {},
   "outputs": [],
   "source": [
    "x_pneumonia_train = [cv2.imread(x_pneumonia_train) for x_pneumonia_train in glob.glob(path_pneumonia_train)]"
   ]
  },
  {
   "cell_type": "code",
   "execution_count": 59,
   "id": "5214e1a3",
   "metadata": {},
   "outputs": [
    {
     "name": "stdout",
     "output_type": "stream",
     "text": [
      "1349\n"
     ]
    }
   ],
   "source": [
    "#path_normal_train = \"C:/Users/artur.sousa/Documents/Infinity School/Projeto_2/chest_xray/train/NORMAL/*.jpeg\"\n",
    "#path_pneumonia_train = \"C:/Users/artur.sousa/Documents/Infinity School/Projeto_2/chest_xray/train/PNEUMONIA/*.jpeg\"\n",
    "y_normal_train = [] \n",
    "y_pneumonia_train = [] #Target\n",
    "string_bacteria = \"bact\"\n",
    "string_virus = 'vir'\n",
    "# Verificar nomes de arquivo em path_normal_train\n",
    "for image in glob.glob(path_normal_train):\n",
    "    y_normal_train.append(0) #Rotulo os RX sem Pneumonia com o valor 0\n",
    "\n",
    "# Verificar nomes de arquivo em path_pneumonia_train\n",
    "for file_path in glob.glob(path_pneumonia_train):\n",
    "    file_name = file_path.split(\"/\")[-1]  # Extrair apenas o nome do arquivo\n",
    "    if string_bacteria in file_name:\n",
    "        y_pneumonia_train.append(1) #Rotulo os RX com Pneumonia Bacteriana com 1\n",
    "    if string_virus in file_name:\n",
    "        y_pneumonia_train.append(2) #Rotulo os RX com Pneumonia Viral com 2\n",
    "        \n",
    "# x_data = []"
   ]
  }
 ],
 "metadata": {
  "kernelspec": {
   "display_name": "Python 3 (ipykernel)",
   "language": "python",
   "name": "python3"
  },
  "language_info": {
   "codemirror_mode": {
    "name": "ipython",
    "version": 3
   },
   "file_extension": ".py",
   "mimetype": "text/x-python",
   "name": "python",
   "nbconvert_exporter": "python",
   "pygments_lexer": "ipython3",
   "version": "3.10.9"
  }
 },
 "nbformat": 4,
 "nbformat_minor": 5
}
