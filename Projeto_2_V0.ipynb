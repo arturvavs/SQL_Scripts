{
 "cells": [
  {
   "cell_type": "code",
   "execution_count": 1,
   "id": "485c1366",
   "metadata": {},
   "outputs": [],
   "source": [
    "import cv2\n",
    "import glob\n",
    "import numpy as np\n",
    "path_normal_train = \"C:/Users/artur.sousa/Documents/Infinity School/Projeto_2/chest_xray/train/NORMAL/*.jpeg\"\n",
    "path_pneumonia_train = \"C:/Users/artur.sousa/Documents/Infinity School/Projeto_2/chest_xray/train/PNEUMONIA/*.jpeg\""
   ]
  },
  {
   "cell_type": "code",
   "execution_count": 2,
   "id": "465041a1",
   "metadata": {},
   "outputs": [],
   "source": [
    "#REDIMENSIONAR IMAGENS\n",
    "width = 256 #COMPRIMENTO DA IMAGEM\n",
    "height = 256 #ALTURA DA IMAGEM\n",
    "dim = (width, height) #DIMENSÃO DA IMAGEM\n",
    "\n",
    "def load_image(path): #FUNÇÃO PARA REDIMENSIONAR CADA IMAGEM DA PASTA\n",
    "    for file in glob.glob(path): #PARA CADA ARQUIVO NO DIRETORIO DE TREINO DOS RX NORMAIS\n",
    "        image = cv2.imread(file) #LEIO CADA IMAGEM NO DIRETORIO\n",
    "        resized_image = cv2.resize(image,dim) #REDIMENSIONO CADA IMAGEM NO DIRETORIO\n",
    "        yield resized_image      "
   ]
  },
  {
   "cell_type": "code",
   "execution_count": 3,
   "id": "0eec1aa2",
   "metadata": {},
   "outputs": [],
   "source": [
    "#DADOS DE TREINO\n",
    "x_normal_list = list(load_image(path_normal_train)) #CRIO UMA LISTA COM AS IMAGENS REDIMENSIONADAS DE RX NORMAL\n",
    "x_pneumonia_list = list(load_image(path_pneumonia_train)) #CRIO UMA LISTA COM AS IMAGENS REDIMENSIONADAS DE RX COM PNEUMONIA"
   ]
  },
  {
   "cell_type": "code",
   "execution_count": null,
   "id": "98c7eb5d",
   "metadata": {},
   "outputs": [],
   "source": [
    "#CHECANDO A DIMENSÃO DAS MATRIZES\n",
    "for i in range (len(x_normal_list)):\n",
    "    print('New Dimensions : ',x_normal_list[i].shape)\n",
    "for i in range (len(x_pneumonia_list)):\n",
    "    print('New Dimensions : ',x_pneumonia_list[i].shape)"
   ]
  },
  {
   "cell_type": "code",
   "execution_count": 4,
   "id": "a9294f9b",
   "metadata": {},
   "outputs": [],
   "source": [
    "#Unifico em uma única lista os RX Normal e RX com Pneumonia\n",
    "x_list = x_normal_list + x_pneumonia_list"
   ]
  },
  {
   "cell_type": "code",
   "execution_count": 5,
   "id": "231f9c17",
   "metadata": {},
   "outputs": [],
   "source": [
    "#DADOS DE TREINO\n",
    "y_normal_train = [] \n",
    "y_pneumonia_train = [] #Target\n",
    "string_bacteria = \"bact\"\n",
    "string_virus = 'vir'\n",
    "# Verificar nomes de arquivo em path_normal_train\n",
    "for image in glob.glob(path_normal_train):\n",
    "    y_normal_train.append(0) #Rotulo os RX sem Pneumonia com o valor 0\n",
    "\n",
    "# Verificar nomes de arquivo em path_pneumonia_train\n",
    "for file_path in glob.glob(path_pneumonia_train):\n",
    "    file_name = file_path.split(\"/\")[-1]  # Extrair apenas o nome do arquivo\n",
    "    if string_bacteria in file_name:\n",
    "        y_pneumonia_train.append(1) #Rotulo os RX com Pneumonia Bacteriana com 1\n",
    "    if string_virus in file_name:\n",
    "        y_pneumonia_train.append(2) #Rotulo os RX com Pneumonia Viral com 2\n",
    "        \n",
    "y_list = y_normal_train + y_pneumonia_train #Unifico em uma unica lista os rótulos de RX Normal e RX com Pneumonia        "
   ]
  },
  {
   "cell_type": "code",
   "execution_count": 6,
   "id": "84612b64",
   "metadata": {},
   "outputs": [],
   "source": [
    "x_data_train = np.array(x_list,dtype=object) #Transformo a lista de imagens em um array\n",
    "y_data_train = np.array(y_list,dtype=object) #Transformo a lista de rótulos em um array"
   ]
  },
  {
   "cell_type": "code",
   "execution_count": 7,
   "id": "5441d1ea",
   "metadata": {},
   "outputs": [],
   "source": [
    "#REPETINDO A OPERAÇÃO, AGORA PARA OS DADOS DE TESTE\n",
    "path_normal_test = \"C:/Users/artur.sousa/Documents/Infinity School/Projeto_2/chest_xray/test/NORMAL/*.jpeg\"\n",
    "path_pneumonia_test = \"C:/Users/artur.sousa/Documents/Infinity School/Projeto_2/chest_xray/test/PNEUMONIA/*.jpeg\"\n",
    "\n",
    "x_normal_list_test = list(load_image(path_normal_test))\n",
    "x_pneumonia_list_test = list(load_image(path_pneumonia_test))\n",
    "\n",
    "x_list_test = x_normal_list_test + x_pneumonia_list_test"
   ]
  },
  {
   "cell_type": "code",
   "execution_count": 8,
   "id": "0a19e2f2",
   "metadata": {},
   "outputs": [],
   "source": [
    "#REPETINDO A OPERAÇÃO, AGORA PARA OS DADOS DE TESTE\n",
    "y_normal_test = []\n",
    "y_pneumonia_test = []\n",
    "\n",
    "for image in glob.glob(path_normal_test):\n",
    "    y_normal_test.append(0)\n",
    "    \n",
    "for file_path in glob.glob(path_pneumonia_test):\n",
    "    file_name = file_path.split(\"/\")[-1]  # Extrair apenas o nome do arquivo\n",
    "    if string_bacteria in file_name:\n",
    "        y_pneumonia_test.append(1) #Rotulo os RX com Pneumonia Bacteriana com 1\n",
    "    if string_virus in file_name:\n",
    "        y_pneumonia_test.append(2) #Rotulo os RX com Pneumonia Viral com 2\n",
    "y_list_test = y_normal_test + y_pneumonia_test"
   ]
  },
  {
   "cell_type": "code",
   "execution_count": 9,
   "id": "c899661b",
   "metadata": {},
   "outputs": [],
   "source": [
    "x_data_test = np.array(x_list_test,dtype=object)\n",
    "y_data_test = np.array(y_list_test,dtype=object)"
   ]
  },
  {
   "cell_type": "code",
   "execution_count": 10,
   "id": "d18c5003",
   "metadata": {},
   "outputs": [],
   "source": [
    "from keras.models import Sequential\n",
    "from keras.layers import Dense, Conv2D, Flatten\n",
    "from keras.utils import to_categorical\n",
    "model = Sequential()\n",
    "\n",
    "model.add(Conv2D(32, kernel_size=(3,3), activation='relu', input_shape=(256,256,3)))\n",
    "model.add(Conv2D(64, kernel_size=(3,3), activation='relu'))\n",
    "model.add(Flatten())\n",
    "model.add(Dense(10, activation='softmax'))"
   ]
  },
  {
   "cell_type": "code",
   "execution_count": 11,
   "id": "e477e908",
   "metadata": {},
   "outputs": [],
   "source": [
    "model.compile(loss='categorical_crossentropy', optimizer='adam', metrics=['accuracy'])"
   ]
  },
  {
   "cell_type": "code",
   "execution_count": null,
   "id": "e209cb6f",
   "metadata": {},
   "outputs": [],
   "source": [
    "y_train = to_categorical(y_data_train)\n",
    "y_test = to_categorical(y_data_test)\n",
    "\n",
    "model.fit(x_data_train, y_train, batch_size=128, epochs=10, verbose=1)"
   ]
  },
  {
   "cell_type": "code",
   "execution_count": null,
   "id": "43f6aa45",
   "metadata": {},
   "outputs": [],
   "source": []
  }
 ],
 "metadata": {
  "kernelspec": {
   "display_name": "Python 3 (ipykernel)",
   "language": "python",
   "name": "python3"
  },
  "language_info": {
   "codemirror_mode": {
    "name": "ipython",
    "version": 3
   },
   "file_extension": ".py",
   "mimetype": "text/x-python",
   "name": "python",
   "nbconvert_exporter": "python",
   "pygments_lexer": "ipython3",
   "version": "3.10.9"
  }
 },
 "nbformat": 4,
 "nbformat_minor": 5
}
